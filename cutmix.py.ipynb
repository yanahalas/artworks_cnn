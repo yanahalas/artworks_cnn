{
 "cells": [
  {
   "cell_type": "code",
   "execution_count": null,
   "metadata": {},
   "outputs": [],
   "source": [
    "def cutmix(img_1, img_2, label_1, label_2, alpha):\n",
    "    lam = np.random.beta(alpha, alpha) #alpha = 1 equals to the uniform distribution\n",
    "    img = img_1.copy()\n",
    "    \n",
    "    bbx1, bby1, bbx2, bby2 = rand_bbox(img_1.shape, lam) #coordinates of the cropped patch\n",
    "    img[bbx1:bbx2, bby1:bby2] = img_2[bbx1:bbx2, bby1:bby2]\n",
    "    \n",
    "    # lambda needs to be adjust since bounding box coordinates might have been clipped to be inside the image \n",
    "    lam = 1 - ((bbx2 - bbx1) * (bby2 - bby1) / (224 * 224))    \n",
    "    label = lam*label_1 + (1 - lam)*label_2\n",
    "    \n",
    "    return img, label   \n",
    "    \n",
    "def rand_bbox(size, lam):\n",
    "    W = size[0] #width of the original image\n",
    "    H = size[1] #height of the original image\n",
    "\n",
    "    cut_rat = np.sqrt(1. - lam) #ratio of the area of the original imahge to the area of the cropped patch      \n",
    "    cut_w = np.int(W * cut_rat)\n",
    "    cut_h = np.int(H * cut_rat)\n",
    "    cx = np.random.randint(W)\n",
    "    cy = np.random.randint(H)\n",
    "\n",
    "    bbx1 = np.clip(cx - cut_w // 2, 0, W)\n",
    "    bby1 = np.clip(cy - cut_h // 2, 0, H)\n",
    "    bbx2 = np.clip(cx + cut_w // 2, 0, W)\n",
    "    bby2 = np.clip(cy + cut_h // 2, 0, H)\n",
    "\n",
    "    return bbx1, bby1, bbx2, bby2"
   ]
  }
 ],
 "metadata": {
  "kernelspec": {
   "display_name": "Python 3",
   "language": "python",
   "name": "python3"
  },
  "language_info": {
   "codemirror_mode": {
    "name": "ipython",
    "version": 3
   },
   "file_extension": ".py",
   "mimetype": "text/x-python",
   "name": "python",
   "nbconvert_exporter": "python",
   "pygments_lexer": "ipython3",
   "version": "3.7.6"
  }
 },
 "nbformat": 4,
 "nbformat_minor": 2
}
